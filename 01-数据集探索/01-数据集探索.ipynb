{
 "cells": [
  {
   "cell_type": "markdown",
   "metadata": {},
   "source": [
    "## 2-IMDB数据集下载和探索 ##"
   ]
  },
  {
   "cell_type": "code",
   "execution_count": 1,
   "metadata": {},
   "outputs": [
    {
     "name": "stdout",
     "output_type": "stream",
     "text": [
      "1.13.1\n"
     ]
    }
   ],
   "source": [
    "from __future__ import absolute_import, division, print_function\n",
    "\n",
    "import tensorflow as tf\n",
    "from tensorflow import keras\n",
    "\n",
    "import numpy as np\n",
    "\n",
    "print(tf.__version__)"
   ]
  },
  {
   "cell_type": "code",
   "execution_count": 2,
   "metadata": {},
   "outputs": [],
   "source": [
    "# 实现自己的datasets\n",
    "imdb = keras.datasets.imdb\n",
    "(train_data, train_labels), (test_data, test_labels) = imdb.load_data(num_words=10000)\n",
    "# ValueError: Object arrays cannot be loaded when allow_pickle=False\n",
    "# 回退 numpy 版本小于<1.16.3，pip install numpy==1.16.0"
   ]
  },
  {
   "cell_type": "code",
   "execution_count": 3,
   "metadata": {},
   "outputs": [
    {
     "name": "stdout",
     "output_type": "stream",
     "text": [
      "Training entries: 25000, labels: 25000\n"
     ]
    }
   ],
   "source": [
    "print(\"Training entries: {}, labels: {}\".format(len(train_data), len(train_labels)))"
   ]
  },
  {
   "cell_type": "code",
   "execution_count": 4,
   "metadata": {},
   "outputs": [
    {
     "name": "stdout",
     "output_type": "stream",
     "text": [
      "[1, 14, 22, 16, 43, 530, 973, 1622, 1385, 65, 458, 4468, 66, 3941, 4, 173, 36, 256, 5, 25, 100, 43, 838, 112, 50, 670, 2, 9, 35, 480, 284, 5, 150, 4, 172, 112, 167, 2, 336, 385, 39, 4, 172, 4536, 1111, 17, 546, 38, 13, 447, 4, 192, 50, 16, 6, 147, 2025, 19, 14, 22, 4, 1920, 4613, 469, 4, 22, 71, 87, 12, 16, 43, 530, 38, 76, 15, 13, 1247, 4, 22, 17, 515, 17, 12, 16, 626, 18, 2, 5, 62, 386, 12, 8, 316, 8, 106, 5, 4, 2223, 5244, 16, 480, 66, 3785, 33, 4, 130, 12, 16, 38, 619, 5, 25, 124, 51, 36, 135, 48, 25, 1415, 33, 6, 22, 12, 215, 28, 77, 52, 5, 14, 407, 16, 82, 2, 8, 4, 107, 117, 5952, 15, 256, 4, 2, 7, 3766, 5, 723, 36, 71, 43, 530, 476, 26, 400, 317, 46, 7, 4, 2, 1029, 13, 104, 88, 4, 381, 15, 297, 98, 32, 2071, 56, 26, 141, 6, 194, 7486, 18, 4, 226, 22, 21, 134, 476, 26, 480, 5, 144, 30, 5535, 18, 51, 36, 28, 224, 92, 25, 104, 4, 226, 65, 16, 38, 1334, 88, 12, 16, 283, 5, 16, 4472, 113, 103, 32, 15, 16, 5345, 19, 178, 32]\n"
     ]
    }
   ],
   "source": [
    "print(train_data[0])"
   ]
  },
  {
   "cell_type": "code",
   "execution_count": 5,
   "metadata": {},
   "outputs": [
    {
     "data": {
      "text/plain": [
       "(218, 189)"
      ]
     },
     "execution_count": 5,
     "metadata": {},
     "output_type": "execute_result"
    }
   ],
   "source": [
    "len(train_data[0]), len(train_data[1])"
   ]
  },
  {
   "cell_type": "code",
   "execution_count": 6,
   "metadata": {},
   "outputs": [],
   "source": [
    "# A dictionary mapping words to an integer index\n",
    "word_index = imdb.get_word_index()\n",
    "\n",
    "# The first indices are reserved\n",
    "word_index = {k:(v+3) for k,v in word_index.items()}\n",
    "word_index[\"<PAD>\"] = 0\n",
    "word_index[\"<START>\"] = 1\n",
    "word_index[\"<UNK>\"] = 2  # unknown\n",
    "word_index[\"<UNUSED>\"] = 3\n",
    "\n",
    "reverse_word_index = dict([(value, key) for (key, value) in word_index.items()])\n",
    "\n",
    "def decode_review(text):\n",
    "    return ' '.join([reverse_word_index.get(i, '?') for i in text])"
   ]
  },
  {
   "cell_type": "code",
   "execution_count": 7,
   "metadata": {},
   "outputs": [
    {
     "data": {
      "text/plain": [
       "\"<START> this film was just brilliant casting location scenery story direction everyone's really suited the part they played and you could just imagine being there robert <UNK> is an amazing actor and now the same being director <UNK> father came from the same scottish island as myself so i loved the fact there was a real connection with this film the witty remarks throughout the film were great it was just brilliant so much that i bought the film as soon as it was released for <UNK> and would recommend it to everyone to watch and the fly fishing was amazing really cried at the end it was so sad and you know what they say if you cry at a film it must have been good and this definitely was also <UNK> to the two little boy's that played the <UNK> of norman and paul they were just brilliant children are often left out of the <UNK> list i think because the stars that play them all grown up are such a big profile for the whole film but these children are amazing and should be praised for what they have done don't you think the whole story was so lovely because it was true and was someone's life after all that was shared with us all\""
      ]
     },
     "execution_count": 7,
     "metadata": {},
     "output_type": "execute_result"
    }
   ],
   "source": [
    "decode_review(train_data[0])"
   ]
  },
  {
   "cell_type": "markdown",
   "metadata": {},
   "source": [
    "### 由于神经网络的输入必须具有相同长度, 所以需要转换 ###\n",
    "1. 使用one-hot 编码\n",
    "2. 使用词向量-pad to same length"
   ]
  },
  {
   "cell_type": "code",
   "execution_count": 8,
   "metadata": {},
   "outputs": [],
   "source": [
    "train_data = keras.preprocessing.sequence.pad_sequences(train_data,\n",
    "                                                        value=word_index[\"<PAD>\"],\n",
    "                                                        padding='post',\n",
    "                                                        maxlen=256)\n",
    "\n",
    "test_data = keras.preprocessing.sequence.pad_sequences(test_data,\n",
    "                                                       value=word_index[\"<PAD>\"],\n",
    "                                                       padding='post',\n",
    "                                                       maxlen=256)"
   ]
  },
  {
   "cell_type": "code",
   "execution_count": 9,
   "metadata": {},
   "outputs": [
    {
     "data": {
      "text/plain": [
       "(256, 256)"
      ]
     },
     "execution_count": 9,
     "metadata": {},
     "output_type": "execute_result"
    }
   ],
   "source": [
    "len(train_data[0]), len(train_data[1])"
   ]
  },
  {
   "cell_type": "code",
   "execution_count": 10,
   "metadata": {},
   "outputs": [
    {
     "name": "stdout",
     "output_type": "stream",
     "text": [
      "[   1   14   22   16   43  530  973 1622 1385   65  458 4468   66 3941\n",
      "    4  173   36  256    5   25  100   43  838  112   50  670    2    9\n",
      "   35  480  284    5  150    4  172  112  167    2  336  385   39    4\n",
      "  172 4536 1111   17  546   38   13  447    4  192   50   16    6  147\n",
      " 2025   19   14   22    4 1920 4613  469    4   22   71   87   12   16\n",
      "   43  530   38   76   15   13 1247    4   22   17  515   17   12   16\n",
      "  626   18    2    5   62  386   12    8  316    8  106    5    4 2223\n",
      " 5244   16  480   66 3785   33    4  130   12   16   38  619    5   25\n",
      "  124   51   36  135   48   25 1415   33    6   22   12  215   28   77\n",
      "   52    5   14  407   16   82    2    8    4  107  117 5952   15  256\n",
      "    4    2    7 3766    5  723   36   71   43  530  476   26  400  317\n",
      "   46    7    4    2 1029   13  104   88    4  381   15  297   98   32\n",
      " 2071   56   26  141    6  194 7486   18    4  226   22   21  134  476\n",
      "   26  480    5  144   30 5535   18   51   36   28  224   92   25  104\n",
      "    4  226   65   16   38 1334   88   12   16  283    5   16 4472  113\n",
      "  103   32   15   16 5345   19  178   32    0    0    0    0    0    0\n",
      "    0    0    0    0    0    0    0    0    0    0    0    0    0    0\n",
      "    0    0    0    0    0    0    0    0    0    0    0    0    0    0\n",
      "    0    0    0    0]\n"
     ]
    }
   ],
   "source": [
    "print(train_data[0])"
   ]
  },
  {
   "cell_type": "code",
   "execution_count": 11,
   "metadata": {},
   "outputs": [],
   "source": [
    "def my_model():\n",
    "    vocab_size = 10000\n",
    "\n",
    "    model = keras.Sequential()\n",
    "    model.add(keras.layers.Embedding(vocab_size, 16))\n",
    "    model.add(keras.layers.GlobalAveragePooling1D())\n",
    "    model.add(keras.layers.Dense(16, activation=tf.nn.relu))\n",
    "    model.add(keras.layers.Dense(1, activation=tf.nn.sigmoid))\n",
    "    \n",
    "    return model"
   ]
  },
  {
   "cell_type": "code",
   "execution_count": 12,
   "metadata": {},
   "outputs": [
    {
     "name": "stdout",
     "output_type": "stream",
     "text": [
      "WARNING:tensorflow:From D:\\Users\\zengh\\Anaconda3\\envs\\env01\\lib\\site-packages\\tensorflow\\python\\ops\\resource_variable_ops.py:435: colocate_with (from tensorflow.python.framework.ops) is deprecated and will be removed in a future version.\n",
      "Instructions for updating:\n",
      "Colocations handled automatically by placer.\n"
     ]
    }
   ],
   "source": [
    "model = my_model()"
   ]
  },
  {
   "cell_type": "code",
   "execution_count": 13,
   "metadata": {},
   "outputs": [
    {
     "name": "stdout",
     "output_type": "stream",
     "text": [
      "_________________________________________________________________\n",
      "Layer (type)                 Output Shape              Param #   \n",
      "=================================================================\n",
      "embedding (Embedding)        (None, None, 16)          160000    \n",
      "_________________________________________________________________\n",
      "global_average_pooling1d (Gl (None, 16)                0         \n",
      "_________________________________________________________________\n",
      "dense (Dense)                (None, 16)                272       \n",
      "_________________________________________________________________\n",
      "dense_1 (Dense)              (None, 1)                 17        \n",
      "=================================================================\n",
      "Total params: 160,289\n",
      "Trainable params: 160,289\n",
      "Non-trainable params: 0\n",
      "_________________________________________________________________\n"
     ]
    }
   ],
   "source": [
    "model.summary()"
   ]
  },
  {
   "cell_type": "code",
   "execution_count": 14,
   "metadata": {},
   "outputs": [],
   "source": [
    "model.compile(optimizer='adam',\n",
    "              loss='binary_crossentropy',\n",
    "              metrics=['acc'])"
   ]
  },
  {
   "cell_type": "code",
   "execution_count": 15,
   "metadata": {},
   "outputs": [],
   "source": [
    "x_val = train_data[:10000]\n",
    "partial_x_train = train_data[10000:]\n",
    "\n",
    "y_val = train_labels[:10000]\n",
    "partial_y_train = train_labels[10000:]"
   ]
  },
  {
   "cell_type": "code",
   "execution_count": 16,
   "metadata": {},
   "outputs": [],
   "source": [
    "\"\"\"\n",
    "InternalError: Blas GEMM launch failed : a.shape=(512, 16), b.shape=(16, 16), m=512, n=16, k=16\n",
    "\t [[{{node dense/MatMul}}]]\n",
    "\t [[{{node loss/mul}}]]\n",
    "\n",
    "\"\"\"\n",
    "if 'session' in locals() and session is not None:\n",
    "    print('Close interactive session')\n",
    "    session.close()"
   ]
  },
  {
   "cell_type": "code",
   "execution_count": 17,
   "metadata": {},
   "outputs": [],
   "source": [
    "#cfg = tf.ConfigProto(allow_soft_placement=True )\n",
    "#cfg.gpu_options.allow_growth = True\n",
    "\"\"\"\n",
    "如果你是使用 GPU 版 TensorFlow 的话，并且你想在显卡高占用率的情况下（比如玩游戏）训练模型，\n",
    "那你要注意在初始化 Session 的时候为其分配固定数量的显存，否则可能会在开始训练的时候直接报错退出：\n",
    "InternalError: Blas GEMM launch failed : a.shape=(512, 16), b.shape=(16, 16), m=512, n=16, k=16\n",
    "\t [[{{node dense/MatMul}}]]\n",
    "\t [[{{node loss/mul}}]]\n",
    "\"\"\"\n",
    "gpu_options = tf.GPUOptions(per_process_gpu_memory_fraction=0.333)  \n",
    "sess = tf.Session(config=tf.ConfigProto(gpu_options=gpu_options))  "
   ]
  },
  {
   "cell_type": "code",
   "execution_count": 18,
   "metadata": {},
   "outputs": [
    {
     "name": "stdout",
     "output_type": "stream",
     "text": [
      "Train on 15000 samples, validate on 10000 samples\n",
      "WARNING:tensorflow:From D:\\Users\\zengh\\Anaconda3\\envs\\env01\\lib\\site-packages\\tensorflow\\python\\ops\\math_ops.py:3066: to_int32 (from tensorflow.python.ops.math_ops) is deprecated and will be removed in a future version.\n",
      "Instructions for updating:\n",
      "Use tf.cast instead.\n",
      "Epoch 1/40\n",
      "15000/15000 [==============================] - 1s 75us/sample - loss: 0.6918 - acc: 0.5555 - val_loss: 0.6897 - val_acc: 0.6050\n",
      "Epoch 2/40\n",
      "15000/15000 [==============================] - 0s 12us/sample - loss: 0.6854 - acc: 0.7026 - val_loss: 0.6807 - val_acc: 0.7344\n",
      "Epoch 3/40\n",
      "15000/15000 [==============================] - 0s 12us/sample - loss: 0.6719 - acc: 0.7546 - val_loss: 0.6643 - val_acc: 0.7565\n",
      "Epoch 4/40\n",
      "15000/15000 [==============================] - 0s 13us/sample - loss: 0.6491 - acc: 0.7612 - val_loss: 0.6385 - val_acc: 0.7606\n",
      "Epoch 5/40\n",
      "15000/15000 [==============================] - 0s 12us/sample - loss: 0.6161 - acc: 0.7930 - val_loss: 0.6040 - val_acc: 0.7866\n",
      "Epoch 6/40\n",
      "15000/15000 [==============================] - 0s 11us/sample - loss: 0.5745 - acc: 0.8131 - val_loss: 0.5640 - val_acc: 0.8038\n",
      "Epoch 7/40\n",
      "15000/15000 [==============================] - 0s 11us/sample - loss: 0.5280 - acc: 0.8273 - val_loss: 0.5205 - val_acc: 0.8198\n",
      "Epoch 8/40\n",
      "15000/15000 [==============================] - 0s 11us/sample - loss: 0.4814 - acc: 0.8445 - val_loss: 0.4801 - val_acc: 0.8325\n",
      "Epoch 9/40\n",
      "15000/15000 [==============================] - 0s 12us/sample - loss: 0.4379 - acc: 0.8600 - val_loss: 0.4434 - val_acc: 0.8422\n",
      "Epoch 10/40\n",
      "15000/15000 [==============================] - 0s 11us/sample - loss: 0.3993 - acc: 0.8731 - val_loss: 0.4131 - val_acc: 0.8503\n",
      "Epoch 11/40\n",
      "15000/15000 [==============================] - 0s 11us/sample - loss: 0.3665 - acc: 0.8809 - val_loss: 0.3879 - val_acc: 0.8589\n",
      "Epoch 12/40\n",
      "15000/15000 [==============================] - 0s 12us/sample - loss: 0.3388 - acc: 0.8888 - val_loss: 0.3686 - val_acc: 0.8620\n",
      "Epoch 13/40\n",
      "15000/15000 [==============================] - 0s 11us/sample - loss: 0.3161 - acc: 0.8941 - val_loss: 0.3513 - val_acc: 0.8677\n",
      "Epoch 14/40\n",
      "15000/15000 [==============================] - 0s 11us/sample - loss: 0.2957 - acc: 0.9003 - val_loss: 0.3387 - val_acc: 0.8713\n",
      "Epoch 15/40\n",
      "15000/15000 [==============================] - 0s 11us/sample - loss: 0.2786 - acc: 0.9051 - val_loss: 0.3282 - val_acc: 0.8736\n",
      "Epoch 16/40\n",
      "15000/15000 [==============================] - 0s 11us/sample - loss: 0.2633 - acc: 0.9095 - val_loss: 0.3195 - val_acc: 0.8753\n",
      "Epoch 17/40\n",
      "15000/15000 [==============================] - 0s 11us/sample - loss: 0.2491 - acc: 0.9146 - val_loss: 0.3123 - val_acc: 0.8777\n",
      "Epoch 18/40\n",
      "15000/15000 [==============================] - 0s 12us/sample - loss: 0.2366 - acc: 0.9191 - val_loss: 0.3060 - val_acc: 0.8806\n",
      "Epoch 19/40\n",
      "15000/15000 [==============================] - 0s 12us/sample - loss: 0.2253 - acc: 0.9219 - val_loss: 0.3007 - val_acc: 0.8806\n",
      "Epoch 20/40\n",
      "15000/15000 [==============================] - 0s 11us/sample - loss: 0.2152 - acc: 0.9256 - val_loss: 0.2971 - val_acc: 0.8812\n",
      "Epoch 21/40\n",
      "15000/15000 [==============================] - 0s 12us/sample - loss: 0.2049 - acc: 0.9303 - val_loss: 0.2939 - val_acc: 0.8814\n",
      "Epoch 22/40\n",
      "15000/15000 [==============================] - 0s 12us/sample - loss: 0.1962 - acc: 0.9329 - val_loss: 0.2912 - val_acc: 0.8833\n",
      "Epoch 23/40\n",
      "15000/15000 [==============================] - 0s 12us/sample - loss: 0.1875 - acc: 0.9376 - val_loss: 0.2899 - val_acc: 0.8822\n",
      "Epoch 24/40\n",
      "15000/15000 [==============================] - 0s 13us/sample - loss: 0.1799 - acc: 0.9414 - val_loss: 0.2880 - val_acc: 0.8847\n",
      "Epoch 25/40\n",
      "15000/15000 [==============================] - 0s 12us/sample - loss: 0.1722 - acc: 0.9453 - val_loss: 0.2864 - val_acc: 0.8839\n",
      "Epoch 26/40\n",
      "15000/15000 [==============================] - 0s 12us/sample - loss: 0.1653 - acc: 0.9473 - val_loss: 0.2868 - val_acc: 0.8820\n",
      "Epoch 27/40\n",
      "15000/15000 [==============================] - 0s 12us/sample - loss: 0.1587 - acc: 0.9497 - val_loss: 0.2861 - val_acc: 0.8829\n",
      "Epoch 28/40\n",
      "15000/15000 [==============================] - 0s 12us/sample - loss: 0.1525 - acc: 0.9533 - val_loss: 0.2863 - val_acc: 0.8852\n",
      "Epoch 29/40\n",
      "15000/15000 [==============================] - 0s 12us/sample - loss: 0.1470 - acc: 0.9559 - val_loss: 0.2877 - val_acc: 0.8829\n",
      "Epoch 30/40\n",
      "15000/15000 [==============================] - 0s 12us/sample - loss: 0.1413 - acc: 0.9571 - val_loss: 0.2869 - val_acc: 0.8858\n",
      "Epoch 31/40\n",
      "15000/15000 [==============================] - 0s 11us/sample - loss: 0.1355 - acc: 0.9602 - val_loss: 0.2878 - val_acc: 0.8859\n",
      "Epoch 32/40\n",
      "15000/15000 [==============================] - 0s 11us/sample - loss: 0.1302 - acc: 0.9623 - val_loss: 0.2891 - val_acc: 0.8859\n",
      "Epoch 33/40\n",
      "15000/15000 [==============================] - 0s 12us/sample - loss: 0.1252 - acc: 0.9639 - val_loss: 0.2911 - val_acc: 0.8848\n",
      "Epoch 34/40\n",
      "15000/15000 [==============================] - 0s 12us/sample - loss: 0.1206 - acc: 0.9659 - val_loss: 0.2930 - val_acc: 0.8858\n",
      "Epoch 35/40\n",
      "15000/15000 [==============================] - 0s 14us/sample - loss: 0.1165 - acc: 0.9668 - val_loss: 0.2954 - val_acc: 0.8853\n",
      "Epoch 36/40\n",
      "15000/15000 [==============================] - 0s 11us/sample - loss: 0.1119 - acc: 0.9693 - val_loss: 0.2970 - val_acc: 0.8845\n",
      "Epoch 37/40\n",
      "15000/15000 [==============================] - 0s 11us/sample - loss: 0.1075 - acc: 0.9701 - val_loss: 0.2994 - val_acc: 0.8841\n",
      "Epoch 38/40\n",
      "15000/15000 [==============================] - 0s 12us/sample - loss: 0.1035 - acc: 0.9716 - val_loss: 0.3028 - val_acc: 0.8830\n",
      "Epoch 39/40\n",
      "15000/15000 [==============================] - 0s 11us/sample - loss: 0.1003 - acc: 0.9729 - val_loss: 0.3061 - val_acc: 0.8827\n",
      "Epoch 40/40\n",
      "15000/15000 [==============================] - 0s 11us/sample - loss: 0.0962 - acc: 0.9747 - val_loss: 0.3086 - val_acc: 0.8837\n"
     ]
    }
   ],
   "source": [
    "history = model.fit(partial_x_train,\n",
    "                    partial_y_train,\n",
    "                    epochs=40,\n",
    "                    batch_size=512,\n",
    "                    validation_data=(x_val, y_val),\n",
    "                    verbose=1)"
   ]
  },
  {
   "cell_type": "code",
   "execution_count": 19,
   "metadata": {},
   "outputs": [
    {
     "name": "stdout",
     "output_type": "stream",
     "text": [
      "25000/25000 [==============================] - 1s 32us/sample - loss: 0.3292 - acc: 0.8719\n",
      "[0.32921384448051455, 0.87188]\n"
     ]
    }
   ],
   "source": [
    "results = model.evaluate(test_data, test_labels)\n",
    "\n",
    "print(results)"
   ]
  },
  {
   "cell_type": "code",
   "execution_count": 20,
   "metadata": {},
   "outputs": [
    {
     "data": {
      "text/plain": [
       "dict_keys(['loss', 'acc', 'val_loss', 'val_acc'])"
      ]
     },
     "execution_count": 20,
     "metadata": {},
     "output_type": "execute_result"
    }
   ],
   "source": [
    "history_dict = history.history\n",
    "history_dict.keys()"
   ]
  },
  {
   "cell_type": "code",
   "execution_count": 21,
   "metadata": {},
   "outputs": [
    {
     "data": {
      "text/plain": [
       "<Figure size 640x480 with 1 Axes>"
      ]
     },
     "metadata": {},
     "output_type": "display_data"
    }
   ],
   "source": [
    "import matplotlib.pyplot as plt\n",
    "\n",
    "acc = history_dict['acc']\n",
    "val_acc = history_dict['val_acc']\n",
    "loss = history_dict['loss']\n",
    "val_loss = history_dict['val_loss']\n",
    "\n",
    "epochs = range(1, len(acc) + 1)\n",
    "\n",
    "# \"bo\" is for \"blue dot\"\n",
    "plt.plot(epochs, loss, 'bo', label='Training loss')\n",
    "# b is for \"solid blue line\"\n",
    "plt.plot(epochs, val_loss, 'b', label='Validation loss')\n",
    "plt.title('Training and validation loss')\n",
    "plt.xlabel('Epochs')\n",
    "plt.ylabel('Loss')\n",
    "plt.legend()\n",
    "\n",
    "plt.show()"
   ]
  },
  {
   "cell_type": "code",
   "execution_count": 22,
   "metadata": {},
   "outputs": [
    {
     "data": {
      "image/png": "[encoded data removed]",
      "text/plain": [
       "<Figure size 432x288 with 1 Axes>"
      ]
     },
     "metadata": {
      "needs_background": "light"
     },
     "output_type": "display_data"
    }
   ],
   "source": [
    "plt.clf()   # clear figure\n",
    "\n",
    "plt.plot(epochs, acc, 'bo', label='Training acc')\n",
    "plt.plot(epochs, val_acc, 'b', label='Validation acc')\n",
    "plt.title('Training and validation accuracy')\n",
    "plt.xlabel('Epochs')\n",
    "plt.ylabel('Accuracy')\n",
    "plt.legend()\n",
    "\n",
    "plt.show()"
   ]
  },
  {
   "cell_type": "markdown",
   "metadata": {},
   "source": [
    "## 3-THUCNews数据集下载和探索 ## "
   ]
  },
  {
   "cell_type": "code",
   "execution_count": 25,
   "metadata": {},
   "outputs": [],
   "source": [
    "import os\n",
    "base_dir = 'data/cnews'\n",
    "train_dir = os.path.join(base_dir, 'cnews.train.txt')\n",
    "test_dir = os.path.join(base_dir, 'cnews.test.txt')\n",
    "val_dir = os.path.join(base_dir, 'cnews.val.txt')\n",
    "vocab_dir = os.path.join(base_dir, 'cnews.vocab.txt')\n",
    "\n",
    "save_dir = 'checkpoints/textcnn'\n",
    "save_path = os.path.join(save_dir, 'best_validation')  # 最佳验证结果保存路径"
   ]
  },
  {
   "cell_type": "code",
   "execution_count": 28,
   "metadata": {},
   "outputs": [],
   "source": [
    "import sys\n",
    "from collections import Counter\n",
    "\n",
    "import numpy as np\n",
    "#import tensorflow.contrib.keras as kr\n",
    "\n",
    "if sys.version_info[0] > 2:\n",
    "    is_py3 = True\n",
    "else:\n",
    "    reload(sys)\n",
    "    sys.setdefaultencoding(\"utf-8\")\n",
    "    is_py3 = False\n",
    "\n",
    "def native_word(word, encoding='utf-8'):\n",
    "    \"\"\"如果在python2下面使用python3训练的模型，可考虑调用此函数转化一下字符编码\"\"\"\n",
    "    if not is_py3:\n",
    "        return word.encode(encoding)\n",
    "    else:\n",
    "        return word\n",
    "\n",
    "\n",
    "def native_content(content):\n",
    "    if not is_py3:\n",
    "        return content.decode('utf-8')\n",
    "    else:\n",
    "        return content\n",
    "\n",
    "\n",
    "def open_file(filename, mode='r'):\n",
    "    \"\"\"\n",
    "    常用文件操作，可在python2和python3间切换.\n",
    "    mode: 'r' or 'w' for read or write\n",
    "    \"\"\"\n",
    "    if is_py3:\n",
    "        return open(filename, mode, encoding='utf-8', errors='ignore')\n",
    "    else:\n",
    "        return open(filename, mode)\n",
    "\n",
    "\n",
    "def read_file(filename):\n",
    "    \"\"\"读取文件数据\"\"\"\n",
    "    contents, labels = [], []\n",
    "    with open_file(filename) as f:\n",
    "        for line in f:\n",
    "            try:\n",
    "                label, content = line.strip().split('\\t')\n",
    "                if content:\n",
    "                    contents.append(list(native_content(content)))\n",
    "                    labels.append(native_content(label))\n",
    "            except:\n",
    "                pass\n",
    "    return contents, labels\n",
    "\n",
    "\n",
    "def build_vocab(train_dir, vocab_dir, vocab_size=5000):\n",
    "    \"\"\"根据训练集构建词汇表，存储\"\"\"\n",
    "    data_train, _ = read_file(train_dir)\n",
    "\n",
    "    all_data = []\n",
    "    for content in data_train:\n",
    "        all_data.extend(content)\n",
    "\n",
    "    counter = Counter(all_data)\n",
    "    count_pairs = counter.most_common(vocab_size - 1)\n",
    "    words, _ = list(zip(*count_pairs))\n",
    "    # 添加一个 <PAD> 来将所有文本pad为同一长度\n",
    "    words = ['<PAD>'] + list(words)\n",
    "    open_file(vocab_dir, mode='w').write('\\n'.join(words) + '\\n')\n",
    "\n",
    "\n",
    "def read_vocab(vocab_dir):\n",
    "    \"\"\"读取词汇表\"\"\"\n",
    "    # words = open_file(vocab_dir).read().strip().split('\\n')\n",
    "    with open_file(vocab_dir) as fp:\n",
    "        # 如果是py2 则每个值都转化为unicode\n",
    "        words = [native_content(_.strip()) for _ in fp.readlines()]\n",
    "    word_to_id = dict(zip(words, range(len(words))))\n",
    "    return words, word_to_id\n",
    "\n",
    "\n",
    "def read_category():\n",
    "    \"\"\"读取分类目录，固定\"\"\"\n",
    "    categories = ['体育', '财经', '房产', '家居', '教育', '科技', '时尚', '时政', '游戏', '娱乐']\n",
    "\n",
    "    categories = [native_content(x) for x in categories]\n",
    "\n",
    "    cat_to_id = dict(zip(categories, range(len(categories))))\n",
    "\n",
    "    return categories, cat_to_id\n",
    "\n",
    "\n",
    "def to_words(content, words):\n",
    "    \"\"\"将id表示的内容转换为文字\"\"\"\n",
    "    return ''.join(words[x] for x in content)\n",
    "\n",
    "\n",
    "def process_file(filename, word_to_id, cat_to_id, max_length=600):\n",
    "    \"\"\"将文件转换为id表示\"\"\"\n",
    "    contents, labels = read_file(filename)\n",
    "\n",
    "    data_id, label_id = [], []\n",
    "    for i in range(len(contents)):\n",
    "        data_id.append([word_to_id[x] for x in contents[i] if x in word_to_id])\n",
    "        label_id.append(cat_to_id[labels[i]])\n",
    "\n",
    "    # 使用keras提供的pad_sequences来将文本pad为固定长度\n",
    "    x_pad = keras.preprocessing.sequence.pad_sequences(data_id, max_length)\n",
    "    y_pad = keras.utils.to_categorical(label_id, num_classes=len(cat_to_id))  # 将标签转换为one-hot表示\n",
    "\n",
    "    return x_pad, y_pad\n",
    "\n",
    "\n",
    "def batch_iter(x, y, batch_size=64):\n",
    "    \"\"\"生成批次数据\"\"\"\n",
    "    data_len = len(x)\n",
    "    num_batch = int((data_len - 1) / batch_size) + 1\n",
    "\n",
    "    indices = np.random.permutation(np.arange(data_len))\n",
    "    x_shuffle = x[indices]\n",
    "    y_shuffle = y[indices]\n",
    "\n",
    "    for i in range(num_batch):\n",
    "        start_id = i * batch_size\n",
    "        end_id = min((i + 1) * batch_size, data_len)\n",
    "        yield x_shuffle[start_id:end_id], y_shuffle[start_id:end_id]"
   ]
  },
  {
   "cell_type": "code",
   "execution_count": 31,
   "metadata": {},
   "outputs": [
    {
     "name": "stdout",
     "output_type": "stream",
     "text": [
      "x_train shape:  (50000, 600)\n",
      "y_train shape:  (50000, 10)\n",
      "x_val shape:  (5000, 600)\n",
      "y_val shape:  (5000, 10)\n"
     ]
    }
   ],
   "source": [
    "# 载入训练集与验证集\n",
    "if not os.path.exists(vocab_dir):  # 如果不存在词汇表，重建\n",
    "        build_vocab(train_dir, vocab_dir, config.vocab_size)\n",
    "categories, cat_to_id = read_category()\n",
    "words, word_to_id = read_vocab(vocab_dir)\n",
    "x_train, y_train = process_file(train_dir, word_to_id, cat_to_id, 600)\n",
    "x_val, y_val = process_file(val_dir, word_to_id, cat_to_id, 600)\n",
    "\n"
   ]
  },
  {
   "cell_type": "code",
   "execution_count": 32,
   "metadata": {},
   "outputs": [
    {
     "name": "stdout",
     "output_type": "stream",
     "text": [
      "x_train shape:  (50000, 600)\n",
      "y_train shape:  (50000, 10)\n",
      "x_val shape:  (5000, 600)\n",
      "y_val shape:  (5000, 10)\n"
     ]
    }
   ],
   "source": [
    "print(\"x_train shape: \", x_train.shape)\n",
    "print(\"y_train shape: \", y_train.shape)\n",
    "print(\"x_val shape: \", x_val.shape)\n",
    "print(\"y_val shape: \", y_val.shape)"
   ]
  },
  {
   "cell_type": "markdown",
   "metadata": {},
   "source": [
    "## 4-召回率、准确率、ROC曲线、AUC、PR曲线 ##"
   ]
  },
  {
   "cell_type": "markdown",
   "metadata": {},
   "source": [
    "竟然有ROC图绘图代码，引用一波了。\n",
    "[机器学习之类别不平衡问题 (2) —— ROC和PR曲线](https://www.imooc.com/article/48072)\n",
    "\n",
    "ROC曲线的绘制方法：假设有P个正例，N个反例，首先拿到分类器对于每个样本预测为正例的概率，根据概率对所有样本进行逆序排列，然后将分类阈值设为最大，即把所有样本均预测为反例，此时图上的点为 (0,0)。然后将分类阈值依次设为每个样本的预测概率，即依次将每个样本划分为正例，如果该样本为真正例，则TP+1，即TPR+1PTPR+1P; 如果该样本为负例，则FP+1，即FPR+1NFPR+1N。最后的到所有样本点的TPR和FPR值，用线段相连。\n",
    "\n",
    "PR (Precision Recall) 曲线\n",
    "PR曲线展示的是Precision vs Recall的曲线，PR曲线与ROC曲线的相同点是都采用了TPR (Recall)，都可以用AUC来衡量分类器的效果。不同点是ROC曲线使用了FPR，而PR曲线使用了Precision，因此PR曲线的两个指标都聚焦于正例。类别不平衡问题中由于主要关心正例，所以在此情况下PR曲线被广泛认为优于ROC曲线。\n"
   ]
  },
  {
   "cell_type": "code",
   "execution_count": null,
   "metadata": {},
   "outputs": [],
   "source": []
  }
 ],
 "metadata": {
  "kernelspec": {
   "display_name": "env01(py36)",
   "language": "python",
   "name": "env01"
  },
  "language_info": {
   "codemirror_mode": {
    "name": "ipython",
    "version": 3
   },
   "file_extension": ".py",
   "mimetype": "text/x-python",
   "name": "python",
   "nbconvert_exporter": "python",
   "pygments_lexer": "ipython3",
   "version": "3.6.7"
  }
 },
 "nbformat": 4,
 "nbformat_minor": 2
}
