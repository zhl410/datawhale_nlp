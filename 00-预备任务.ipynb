{
 "cells": [
  {
   "cell_type": "markdown",
   "metadata": {},
   "source": [
    "# 预备任务 #\n",
    "## 1.安装tensorflow ##\n",
    "安装Tensorflow的通用方法参见[tensorflow官网](https://www.tensorflow.org/install)。下面具体介绍下我自己的安装过程。\n",
    "### 1.1 安装Anaconda ###\n",
    "这个在之前使用Jupyter Notebook的时候就安装好了的，具体安装过程参见[Anaconda官网](https://www.anaconda.com/distribution/)。\n",
    "\n",
    "### 1.2 创建新的虚拟环境 ##\n",
    "为了方便管理创建一个基于python3.6的新工作环境，命名为env01。 在Anaconda Prompt中使用命令：\n",
    "\n",
    "```conda create -n env01 python=3.6 ```\n",
    "### 1.3 安装GPU版本的tensorflow##\n",
    "首先装好GPU的驱动(CUDA 10.0)和相关库(CUDA Toolkit)直接下载安装即可，另外一个cuDNN 7.5.1.10的安装见[Nvidia官网](https://docs.nvidia.com/deeplearning/sdk/cudnn-install/index.html#installwindows)  ，所以可以在这个基础上直接安装tensorflow的GPU版本。\n",
    "\n",
    "进入env01环境:\n",
    "\n",
    "```activate env01```\n",
    "\n",
    "安装tf:\n",
    "\n",
    "``` pip install tensorflow-gpu ```\n",
    "\n",
    "安装好后可以查看tensorflow的版本信息（当然你也可以指定安装版本进行安装，我是采用默认的安装方式）：\n",
    "\n",
    "``` conda list tensorflow ```\n",
    "\n",
    "![tensorflow安装结果](tensorflow安装结果.png)\n",
    "\n",
    "\n",
    "### 1.4 为Jupyter安装新的kernel ###\n",
    "\n",
    "我自己经常使用Jupyter Notebook或者Jupyter Lab来进行实验，所以为了能够在Jupyter Lab上使用到这个新的环境配置，就需要安装新的kernel。可以参见[IPython的使用文档](https://ipython.readthedocs.io/en/latest/install/kernel_install.html)和[Jupyter安装,配置手册](https://jupyter.readthedocs.io/en/latest/projects/content-projects.html)。\n",
    "```\n",
    "activate env01\n",
    "conda install ipykernel # or pip install ipykernel\n",
    "python -m ipykernel install --user --name env01 --display-name \"env01(py36)\"\n",
    "```\n",
    "![安装kernel到Jupyter](安装kernel到Jupyter.png)\n",
    "\n",
    "### 1.5 补充-Jupyter包需求解决方案 ###\n",
    "![JupyterPackage](JupyterPackage.png)"
   ]
  },
  {
   "cell_type": "markdown",
   "metadata": {},
   "source": [
    "## 2.tensrflow基础 ##\n",
    "使用低级TensorFlow APIs(TensorFlow Core): 1.实验和调试都更加直接。2.使用高级api时对内部工作方式心中有数"
   ]
  },
  {
   "cell_type": "code",
   "execution_count": 1,
   "metadata": {},
   "outputs": [],
   "source": [
    "from __future__ import absolute_import\n",
    "from __future__ import division\n",
    "from __future__ import print_function\n",
    "\n",
    "import numpy as np\n",
    "import tensorflow as tf"
   ]
  },
  {
   "cell_type": "markdown",
   "metadata": {},
   "source": [
    "### 2.1 Tensor值 ###\n",
    "TensorFlow中数据的核心单元是 tensor.\n",
    "\n",
    "1. rank:维度的个数， 标量的秩为0.\n",
    "\n",
    "2. shape: 每一维度上数组的长度，标量的大小为[].\n",
    "\n",
    "3. values: 使用 numpy数组来表示tensor值\n",
    "\n",
    "### 2.2 TensorFlow核心工作流程 ###\n",
    "构建计算图（tf.Graph）和运行计算图（tf.Session）\n",
    "\n",
    "#### 2.2.1 图 ####\n",
    "结点： tf.Operation,Opertion 描述消费和产生tensor的各种计算。\n",
    "边： tf.sensor 代表“值”在图中流动\n",
    "\n",
    "图中的每个操作都有一个惟一的名称。这个名称独立于Python中分配给对象的名称。张量是以生成张量的操作命名的，后面跟着一个输出索引，如上面的“add:0”所示"
   ]
  },
  {
   "cell_type": "code",
   "execution_count": 2,
   "metadata": {},
   "outputs": [
    {
     "name": "stdout",
     "output_type": "stream",
     "text": [
      "Tensor(\"Const:0\", shape=(), dtype=float32)\n",
      "Tensor(\"Const_1:0\", shape=(), dtype=float32)\n",
      "Tensor(\"add:0\", shape=(), dtype=float32)\n"
     ]
    }
   ],
   "source": [
    "a = tf.constant(3.0, dtype=tf.float32)\n",
    "b = tf.constant(4.0 ) # also tf.float32 implicitly\n",
    "total = a + b\n",
    "print(a)\n",
    "print(b)\n",
    "print(total)"
   ]
  },
  {
   "cell_type": "markdown",
   "metadata": {},
   "source": [
    "#### 2.2.2 TensorBoard ####\n",
    "用来可视化计算图\n",
    "1. 保存计算图为TensorBoard summary文件\n",
    "2. 打开终端 输入 tensorboard --logdir=path/to/log-directory\n",
    "3. 打开浏览器输入：localhost:6006 查看 Tensorboard"
   ]
  },
  {
   "cell_type": "code",
   "execution_count": 3,
   "metadata": {},
   "outputs": [],
   "source": [
    "writer = tf.summary.FileWriter('logdir/')\n",
    "writer.add_graph(tf.get_default_graph())\n",
    "writer.flush()"
   ]
  },
  {
   "cell_type": "markdown",
   "metadata": {},
   "source": [
    "#### 2.2.3 Session ####\n",
    "会话封装了TensorFlow 运行时的状态，同时运行TensorFlow的操作。如果把tf.Graph比作.py文件的话，tf.Session就类似于python解释器"
   ]
  },
  {
   "cell_type": "code",
   "execution_count": 4,
   "metadata": {},
   "outputs": [
    {
     "name": "stdout",
     "output_type": "stream",
     "text": [
      "7.0\n"
     ]
    }
   ],
   "source": [
    "sess = tf.Session()\n",
    "print(sess.run(total))"
   ]
  },
  {
   "cell_type": "code",
   "execution_count": 5,
   "metadata": {},
   "outputs": [
    {
     "name": "stdout",
     "output_type": "stream",
     "text": [
      "{'xxx': (3.0, 4.0), 'total': 7.0}\n"
     ]
    }
   ],
   "source": [
    "# 接受任何元组或字典类型的组合形成的多个tensors输入\n",
    "print(sess.run({'xxx':(a, b), 'total':total}))"
   ]
  },
  {
   "cell_type": "code",
   "execution_count": 6,
   "metadata": {},
   "outputs": [
    {
     "name": "stdout",
     "output_type": "stream",
     "text": [
      "[0.70536757 0.02899575 0.77724373]\n",
      "[0.82061243 0.9810114  0.16284251]\n",
      "(array([1.990807 , 1.3547047, 1.5366379], dtype=float32), array([2.990807 , 2.3547049, 2.5366378], dtype=float32))\n"
     ]
    }
   ],
   "source": [
    "# 每一次调用tf.Session.run对计算图中的任意的tf.Tensor来说其值都只有一个\n",
    "vec = tf.random_uniform(shape=(3, ))\n",
    "out1 = vec + 1\n",
    "out2 = vec + 2\n",
    "print(sess.run(vec))\n",
    "print(sess.run(vec))\n",
    "print(sess.run((out1, out2)))"
   ]
  },
  {
   "cell_type": "markdown",
   "metadata": {},
   "source": [
    "#### 2.2.4 Feeding ####\n",
    "placeholder: 图可以参数化以接受外部输入，即占位符。\n",
    "\n",
    "feed_dict参数可用于覆盖图中的任何张量。占位符和其他tf.Tensors之间唯一的区别是如果没有给占位符赋值，在调用tf.Session.run时会抛出一个错误。"
   ]
  },
  {
   "cell_type": "code",
   "execution_count": 7,
   "metadata": {},
   "outputs": [
    {
     "name": "stdout",
     "output_type": "stream",
     "text": [
      "7.5\n",
      "[3. 7.]\n"
     ]
    }
   ],
   "source": [
    "x = tf.placeholder(tf.float32)\n",
    "y = tf.placeholder(tf.float32)\n",
    "z = x + y\n",
    "print(sess.run(z, feed_dict={x:3, y:4.5}))\n",
    "print(sess.run(z, feed_dict={x: [1,3], y:[2, 4]}))"
   ]
  },
  {
   "cell_type": "markdown",
   "metadata": {},
   "source": [
    "#### 2.2.5 Datasets #### \n",
    "Placeholders 适用于单次试验，tf.data更适用于流式数据\n",
    "\n",
    "Dataset -> tf.data.Iterator -> tf.data.Iterator.get_next\n",
    "\n",
    "The simplest way to create an Iterator is with the tf.data.Dataset.make_one_shot_iterator method. \n",
    "\n",
    "If the Dataset depends on stateful operations you may need to initialize the iterator before using it, as shown below:"
   ]
  },
  {
   "cell_type": "code",
   "execution_count": 8,
   "metadata": {},
   "outputs": [],
   "source": [
    "my_data = [\n",
    "    [0, 1,],\n",
    "    [2, 3],\n",
    "    [4, 5],\n",
    "    [6, 7],\n",
    "]\n",
    "slices = tf.data.Dataset.from_tensor_slices(my_data)\n",
    "next_item = slices.make_one_shot_iterator().get_next()"
   ]
  },
  {
   "cell_type": "code",
   "execution_count": 9,
   "metadata": {},
   "outputs": [
    {
     "name": "stdout",
     "output_type": "stream",
     "text": [
      "[0 1]\n",
      "[2 3]\n",
      "[4 5]\n",
      "[6 7]\n",
      "I catch it.\n"
     ]
    }
   ],
   "source": [
    "while True:\n",
    "    try:\n",
    "        print(sess.run(next_item))\n",
    "    except tf.errors.OutOfRangeError:\n",
    "        print(\"I catch it.\")\n",
    "        break"
   ]
  },
  {
   "cell_type": "code",
   "execution_count": 10,
   "metadata": {},
   "outputs": [
    {
     "name": "stdout",
     "output_type": "stream",
     "text": [
      "WARNING:tensorflow:From D:\\Users\\zengh\\Anaconda3\\envs\\env01\\lib\\site-packages\\tensorflow\\python\\data\\ops\\dataset_ops.py:1419: colocate_with (from tensorflow.python.framework.ops) is deprecated and will be removed in a future version.\n",
      "Instructions for updating:\n",
      "Colocations handled automatically by placer.\n",
      "[ 1.9407614  -0.53528005  0.6724556 ]\n",
      "[ 0.5993164  -1.8759983  -0.85241926]\n",
      "[-1.0402809  -0.1419276   0.79817224]\n",
      "[-0.5909314  -0.92287385 -1.48785   ]\n",
      "[ 0.5324018  -0.13164169 -2.0933774 ]\n",
      "[ 1.8553681  -0.10748121  0.41282657]\n",
      "[ 1.3322107   1.0745685  -0.37091318]\n",
      "[0.190562   0.49121156 0.4689252 ]\n",
      "[ 1.3927369   0.8398161  -0.20138954]\n",
      "[-0.953393  -1.1707511  0.7585268]\n",
      "end of data\n"
     ]
    }
   ],
   "source": [
    "r = tf.random_normal([10, 3])\n",
    "dataset = tf.data.Dataset.from_tensor_slices(r)\n",
    "iterator = dataset.make_initializable_iterator()\n",
    "next_row = iterator.get_next()\n",
    "\n",
    "sess.run(iterator.initializer)\n",
    "while True:\n",
    "    try:\n",
    "        print(sess.run(next_row))\n",
    "    except tf.errors.OutOfRangeError:\n",
    "        print(\"end of data\")\n",
    "        break"
   ]
  },
  {
   "cell_type": "markdown",
   "metadata": {},
   "source": [
    "#### 层 ####\n",
    "1. creating layers"
   ]
  },
  {
   "cell_type": "code",
   "execution_count": 13,
   "metadata": {},
   "outputs": [],
   "source": [
    "x = tf.placeholder(tf.float32, shape=[None, 3])\n",
    "linear_model = tf.layers.Dense(units=1)\n",
    "y = linear_model(x)\n"
   ]
  },
  {
   "cell_type": "code",
   "execution_count": 14,
   "metadata": {},
   "outputs": [],
   "source": [
    "#2. initializing layers\n",
    "\n",
    "init = tf.global_variables_initializer()\n",
    "sess.run(init)"
   ]
  },
  {
   "cell_type": "code",
   "execution_count": 16,
   "metadata": {},
   "outputs": [
    {
     "name": "stdout",
     "output_type": "stream",
     "text": [
      "[[0.69293284]\n",
      " [5.6562505 ]]\n"
     ]
    }
   ],
   "source": [
    "# 3, 执行层\n",
    "print(sess.run(y, {x: [[1,2, 3], [9, 10, 11]]}))"
   ]
  },
  {
   "cell_type": "code",
   "execution_count": 18,
   "metadata": {},
   "outputs": [],
   "source": [
    "# 4.层的简写形式，不推荐，因为无法获取Layer Object,导致调试困难"
   ]
  },
  {
   "cell_type": "markdown",
   "metadata": {},
   "source": [
    "### 特征列 ###\n",
    "tf.feature_column.input_layer <-------- dense columns\n",
    "\n",
    " one-hot <--- tf.feature_column.indicator_column <------ categorical column"
   ]
  },
  {
   "cell_type": "code",
   "execution_count": 20,
   "metadata": {},
   "outputs": [
    {
     "name": "stdout",
     "output_type": "stream",
     "text": [
      "迭代次数0, loss值3.5392043590545654\n",
      "迭代次数1, loss值2.5282466411590576\n",
      "迭代次数2, loss值1.826331377029419\n",
      "迭代次数3, loss值1.3388562202453613\n",
      "迭代次数4, loss值1.000179648399353\n",
      "迭代次数5, loss值0.7647536396980286\n",
      "迭代次数6, loss值0.60097336769104\n",
      "迭代次数7, loss值0.4869091808795929\n",
      "迭代次数8, loss值0.40734460949897766\n",
      "迭代次数9, loss值0.3517208695411682\n",
      "迭代次数10, loss值0.31271180510520935\n",
      "迭代次数11, loss值0.2852337956428528\n",
      "迭代次数12, loss值0.26575925946235657\n",
      "迭代次数13, loss值0.2518407106399536\n",
      "迭代次数14, loss值0.24177974462509155\n",
      "迭代次数15, loss值0.23439781367778778\n",
      "迭代次数16, loss值0.22887729108333588\n",
      "迭代次数17, loss值0.22465068101882935\n",
      "迭代次数18, loss值0.2213243842124939\n",
      "迭代次数19, loss值0.21862497925758362\n",
      "迭代次数20, loss值0.21636304259300232\n",
      "迭代次数21, loss值0.21440690755844116\n",
      "迭代次数22, loss值0.21266525983810425\n",
      "迭代次数23, loss值0.21107476949691772\n",
      "迭代次数24, loss值0.20959143340587616\n",
      "迭代次数25, loss值0.20818474888801575\n",
      "迭代次数26, loss值0.20683346688747406\n",
      "迭代次数27, loss值0.20552292466163635\n",
      "迭代次数28, loss值0.2042427659034729\n",
      "迭代次数29, loss值0.20298603177070618\n",
      "迭代次数30, loss值0.20174774527549744\n",
      "迭代次数31, loss值0.20052434504032135\n",
      "迭代次数32, loss值0.19931352138519287\n",
      "迭代次数33, loss值0.19811362028121948\n",
      "迭代次数34, loss值0.1969234049320221\n",
      "迭代次数35, loss值0.19574207067489624\n",
      "迭代次数36, loss值0.19456899166107178\n",
      "迭代次数37, loss值0.19340378046035767\n",
      "迭代次数38, loss值0.19224610924720764\n",
      "迭代次数39, loss值0.19109581410884857\n",
      "迭代次数40, loss值0.18995262682437897\n",
      "迭代次数41, loss值0.18881648778915405\n",
      "迭代次数42, loss值0.18768726289272308\n",
      "迭代次数43, loss值0.18656489253044128\n",
      "迭代次数44, loss值0.18544936180114746\n",
      "迭代次数45, loss值0.1843404471874237\n",
      "迭代次数46, loss值0.18323823809623718\n",
      "迭代次数47, loss值0.18214261531829834\n",
      "迭代次数48, loss值0.18105360865592957\n",
      "迭代次数49, loss值0.1799710988998413\n",
      "迭代次数50, loss值0.17889504134655\n",
      "迭代次数51, loss值0.1778254359960556\n",
      "迭代次数52, loss值0.17676225304603577\n",
      "迭代次数53, loss值0.17570540308952332\n",
      "迭代次数54, loss值0.17465493083000183\n",
      "迭代次数55, loss值0.17361068725585938\n",
      "迭代次数56, loss值0.17257264256477356\n",
      "迭代次数57, loss值0.17154088616371155\n",
      "迭代次数58, loss值0.1705152690410614\n",
      "迭代次数59, loss值0.16949579119682312\n",
      "迭代次数60, loss值0.16848237812519073\n",
      "迭代次数61, loss值0.16747504472732544\n",
      "迭代次数62, loss值0.16647374629974365\n",
      "迭代次数63, loss值0.16547846794128418\n",
      "迭代次数64, loss值0.16448907554149628\n",
      "迭代次数65, loss值0.1635056436061859\n",
      "迭代次数66, loss值0.16252800822257996\n",
      "迭代次数67, loss值0.16155630350112915\n",
      "迭代次数68, loss值0.16059038043022156\n",
      "迭代次数69, loss值0.15963025391101837\n",
      "迭代次数70, loss值0.15867583453655243\n",
      "迭代次数71, loss值0.15772713720798492\n",
      "迭代次数72, loss值0.15678414702415466\n",
      "迭代次数73, loss值0.1558467149734497\n",
      "迭代次数74, loss值0.15491493046283722\n",
      "迭代次数75, loss值0.15398874878883362\n",
      "迭代次数76, loss值0.15306808054447174\n",
      "迭代次数77, loss值0.1521528661251068\n",
      "迭代次数78, loss值0.1512431800365448\n",
      "迭代次数79, loss值0.15033893287181854\n",
      "迭代次数80, loss值0.14944009482860565\n",
      "迭代次数81, loss值0.14854657649993896\n",
      "迭代次数82, loss值0.14765846729278564\n",
      "迭代次数83, loss值0.14677563309669495\n",
      "迭代次数84, loss值0.14589808881282806\n",
      "迭代次数85, loss值0.14502578973770142\n",
      "迭代次数86, loss值0.14415867626667023\n",
      "迭代次数87, loss值0.14329679310321808\n",
      "迭代次数88, loss值0.14244002103805542\n",
      "迭代次数89, loss值0.14158840477466583\n",
      "迭代次数90, loss值0.14074188470840454\n",
      "迭代次数91, loss值0.13990043103694916\n",
      "迭代次数92, loss值0.1390639841556549\n",
      "迭代次数93, loss值0.1382324993610382\n",
      "迭代次数94, loss值0.13740608096122742\n",
      "迭代次数95, loss值0.13658453524112701\n",
      "迭代次数96, loss值0.13576792180538177\n",
      "迭代次数97, loss值0.1349562108516693\n",
      "迭代次数98, loss值0.13414931297302246\n",
      "迭代次数99, loss值0.13334724307060242\n",
      "[[-0.58786726]\n",
      " [-1.2848619 ]\n",
      " [-1.9818565 ]\n",
      " [-2.6788511 ]]\n"
     ]
    }
   ],
   "source": [
    "\n",
    "# 数据\n",
    "x = tf.constant([[1], [2], [3], [4]], dtype=tf.float32)\n",
    "y_true = tf.constant([[0], [-1], [-2], [-3]], dtype=tf.float32)\n",
    "\n",
    "# 模型\n",
    "linear_model = tf.layers.Dense(units=1)\n",
    "\n",
    "# 损失函数\n",
    "y_pred = linear_model(x)\n",
    "loss = tf.losses.mean_squared_error(labels=y_true, predictions=y_pred)\n",
    "\n",
    "# 优化器\n",
    "optimizer = tf.train.GradientDescentOptimizer(0.01)\n",
    "train = optimizer.minimize(loss)\n",
    "\n",
    "# 初始化网络内部结点权值\n",
    "init = tf.global_variables_initializer()\n",
    "\n",
    "sess = tf.Session()\n",
    "sess.run(init)\n",
    "\n",
    "# 迭代训练\n",
    "for i in range(100):\n",
    "  _, loss_value = sess.run((train, loss))\n",
    "  print(\"迭代次数{0}, loss值{1}\".format(i, loss_value))\n",
    "\n",
    "print(sess.run(y_pred))"
   ]
  },
  {
   "cell_type": "markdown",
   "metadata": {},
   "source": [
    "### 自然语言处理 ###\n",
    "nlp的四个阶段:\n",
    "\n",
    "1. 记忆\n",
    "2. 感知\n",
    "3. 认知\n",
    "4. 创造\n",
    "\n",
    "人工智能第三次浪潮特点\n",
    "\n",
    "1. 海量大数据\n",
    "2. 计算能力强\n",
    "3. 应用场景\n",
    "![nlp的几个方面](nlp的几个方面.jpg)"
   ]
  }
 ],
 "metadata": {
  "kernelspec": {
   "display_name": "env01(py36)",
   "language": "python",
   "name": "env01"
  },
  "language_info": {
   "codemirror_mode": {
    "name": "ipython",
    "version": 3
   },
   "file_extension": ".py",
   "mimetype": "text/x-python",
   "name": "python",
   "nbconvert_exporter": "python",
   "pygments_lexer": "ipython3",
   "version": "3.6.7"
  }
 },
 "nbformat": 4,
 "nbformat_minor": 2
}
