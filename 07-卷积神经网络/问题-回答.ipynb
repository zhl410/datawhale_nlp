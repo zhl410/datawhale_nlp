{
 "cells": [
  {
   "cell_type": "markdown",
   "metadata": {},
   "source": [
    "问题1：在毕业设计中判断运动员是否合格的判断规则会受摄像机位置和引体杆的影响的吗？\n",
    "\n",
    "回答：进行拍摄时摄像头应该正对运动员，只要能够拍摄到全身即可，由于基于CNN的模型能够适应图片中人物的不同尺度，所以摄像机的位置可以不用固定，即使使用手机也能进行拍摄。根据特征构建的规则没有对引体杆进行检测，二是利用了两个手腕关节的位置信息，该规则可以自相融洽。\n",
    "\n",
    "问题2：最后这个系统的效果怎么样？\n",
    "\n",
    "回答：在运行性能方面，系统在普通笔记本上能够达到20fps,勉强达到实时要求，但是在嵌入式设备，手机等终端上不能实时。可以考虑对模型进行压缩和剪辑，减少运行时间。关节点的检测平均准确率在75%左右，达到原论文的准确精度，在同等模型上领先。\n",
    "\n",
    "问题3：能说自顶向下的姿态识别思路吗？\n",
    "\n",
    "回答：给定一张图片里面有很多人，那么可以先使用目标识别算法，把每个人用矩形方框给框定出来，然后再只针对方框里面的一个人进行姿态识别。这种思路的问题是必须依赖于目标识别算法，如果目标识别失败则无法进行后面的姿态识别。\n"
   ]
  }
 ],
 "metadata": {
  "kernelspec": {
   "display_name": "env01(py36)",
   "language": "python",
   "name": "env01"
  },
  "language_info": {
   "codemirror_mode": {
    "name": "ipython",
    "version": 3
   },
   "file_extension": ".py",
   "mimetype": "text/x-python",
   "name": "python",
   "nbconvert_exporter": "python",
   "pygments_lexer": "ipython3",
   "version": "3.6.7"
  }
 },
 "nbformat": 4,
 "nbformat_minor": 2
}
